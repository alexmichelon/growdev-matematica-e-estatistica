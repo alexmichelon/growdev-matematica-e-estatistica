{
  "cells": [
    {
      "cell_type": "markdown",
      "metadata": {
        "id": "view-in-github",
        "colab_type": "text"
      },
      "source": [
        "<a href=\"https://colab.research.google.com/github/alexmichelon/growdev-matematica-e-estatistica/blob/main/trabalho-final/Avaliacao_Final_Growdev_MatEst_Alex_Michelon.ipynb\" target=\"_parent\"><img src=\"https://colab.research.google.com/assets/colab-badge.svg\" alt=\"Open In Colab\"/></a>"
      ]
    },
    {
      "cell_type": "markdown",
      "id": "daa79816",
      "metadata": {
        "id": "daa79816"
      },
      "source": [
        "# Churn em Instituição Financeira (fictícia)\n",
        "\n",
        "## O que é churn?\n",
        "\n",
        "Churn é o comportamento atribuído a um cliente ou funcionário que decide deixar uma empresa. Sabe-se que encontrar e conquistar um novo cliente é mais difícil e caro do que manter os clientes atuais [[Fonte](https://jrs.digital/conquistar-um-novo-cliente-custa-entre-5-a-7-vezes-mais-que-manter-um-atual/#:~:text=Segundo%20o%20economista%20americano%20Philip,de%20clientes%2C%20usu%C3%A1rios%20e%20compradores.)], portanto a análise de churn pode auxiliar nas políticas de uma empresa usadas para atuar nos clientes mais propensos a deixar a empresa e intervir antes de perdê-lo.\n",
        "\n",
        "\n",
        "Neste projeto usaremos os dados fornecidos para tentar determinar padrões nos dados que indiquem o comportamento dos clientes que estejam associados aos clientes que deixaram o banco."
      ]
    },
    {
      "cell_type": "markdown",
      "source": [
        "## Dataset\n",
        "\n",
        "Esse dataset pode ser usado para a identificação de clientes que deixarão ou não a empresa, ou seja, um problema de classificação binária.\n",
        "\n",
        "O dataset possui 10 000 registros e 13 colunas:\n",
        "\n",
        "* **RowNumber**: Coluna indicando o número da linha na tabela de dados.\n",
        "\n",
        "* **CustomerId**: Número identificador de cada cliente.\n",
        "\n",
        "* **Surname**: Sobrenome do cliente.\n",
        "\n",
        "* **CreditScore**: Score de crédito do cliente.\n",
        "\n",
        "* **Geography**: Indicação de país.\n",
        "\n",
        "* **Gender**: Sexo do cliente.\n",
        "\n",
        "* **Age**: Idade do Cliente.\n",
        "\n",
        "* **Tenure**: Coluna indicando há quanto tempo o cliente está com o banco.\n",
        "\n",
        "* **Balance**: Coluna indicando o saldo ou o valor associado à conta do cliente.\n",
        "\n",
        "* **NumOfProducts**: Coluna indicando o número de produtos do banco que o cliente usa.\n",
        "\n",
        "* **HasCrCard**: Coluna indicando se o cliente possui cartão de crédito (0 ou 1).\n",
        "\n",
        "* **IsActiveMember**: Coluna indicando se o cliente é ou não ativo (0 ou 1).\n",
        "\n",
        "* **EstimatedSalary**: Salário estimado do cliente.\n",
        "\n",
        "* **Exited**: Coluna indicando se o cliente abandonou (1) ou não (0) o banco."
      ],
      "metadata": {
        "id": "09S0AsKgIbuk"
      },
      "id": "09S0AsKgIbuk"
    },
    {
      "cell_type": "code",
      "execution_count": null,
      "id": "7a9da481",
      "metadata": {
        "ExecuteTime": {
          "end_time": "2023-06-08T01:34:02.796568Z",
          "start_time": "2023-06-08T01:33:34.063798Z"
        },
        "id": "7a9da481"
      },
      "outputs": [],
      "source": [
        "# Importando as bibliotecas\n",
        "import pandas as pd\n",
        "import numpy as np\n",
        "\n",
        "import matplotlib.pyplot as plt\n",
        "import seaborn as sns"
      ]
    },
    {
      "cell_type": "markdown",
      "source": [
        "## Atividade 1: Importe o conjunto de dados e exiba as cinco primeiras linhas."
      ],
      "metadata": {
        "id": "YP8V5b5bqzFL"
      },
      "id": "YP8V5b5bqzFL"
    },
    {
      "cell_type": "code",
      "execution_count": null,
      "id": "a77f2f74",
      "metadata": {
        "ExecuteTime": {
          "end_time": "2023-06-08T01:34:03.564060Z",
          "start_time": "2023-06-08T01:34:02.834467Z"
        },
        "id": "a77f2f74",
        "colab": {
          "base_uri": "https://localhost:8080/",
          "height": 270
        },
        "outputId": "b39b4e5e-fa0d-494f-d442-9bd8cdffb537"
      },
      "outputs": [
        {
          "output_type": "execute_result",
          "data": {
            "text/plain": [
              "   RowNumber  CustomerId   Surname  CreditScore Geography  Gender  Age  \\\n",
              "0          1    15634602  Hargrave          619    France  Female   42   \n",
              "1          2    15647311      Hill          608     Spain  Female   41   \n",
              "2          3    15619304      Onio          502    France  Female   42   \n",
              "3          4    15701354      Boni          699    France  Female   39   \n",
              "4          5    15737888  Mitchell          850     Spain  Female   43   \n",
              "\n",
              "   Tenure    Balance  NumOfProducts  HasCrCard  IsActiveMember  \\\n",
              "0       2       0.00              1          1               1   \n",
              "1       1   83807.86              1          0               1   \n",
              "2       8  159660.80              3          1               0   \n",
              "3       1       0.00              2          0               0   \n",
              "4       2  125510.82              1          1               1   \n",
              "\n",
              "   EstimatedSalary  Exited  \n",
              "0        101348.88       1  \n",
              "1        112542.58       0  \n",
              "2        113931.57       1  \n",
              "3         93826.63       0  \n",
              "4         79084.10       0  "
            ],
            "text/html": [
              "\n",
              "  <div id=\"df-366ce1c6-ec72-4a54-ab92-d3e3cd8a7082\">\n",
              "    <div class=\"colab-df-container\">\n",
              "      <div>\n",
              "<style scoped>\n",
              "    .dataframe tbody tr th:only-of-type {\n",
              "        vertical-align: middle;\n",
              "    }\n",
              "\n",
              "    .dataframe tbody tr th {\n",
              "        vertical-align: top;\n",
              "    }\n",
              "\n",
              "    .dataframe thead th {\n",
              "        text-align: right;\n",
              "    }\n",
              "</style>\n",
              "<table border=\"1\" class=\"dataframe\">\n",
              "  <thead>\n",
              "    <tr style=\"text-align: right;\">\n",
              "      <th></th>\n",
              "      <th>RowNumber</th>\n",
              "      <th>CustomerId</th>\n",
              "      <th>Surname</th>\n",
              "      <th>CreditScore</th>\n",
              "      <th>Geography</th>\n",
              "      <th>Gender</th>\n",
              "      <th>Age</th>\n",
              "      <th>Tenure</th>\n",
              "      <th>Balance</th>\n",
              "      <th>NumOfProducts</th>\n",
              "      <th>HasCrCard</th>\n",
              "      <th>IsActiveMember</th>\n",
              "      <th>EstimatedSalary</th>\n",
              "      <th>Exited</th>\n",
              "    </tr>\n",
              "  </thead>\n",
              "  <tbody>\n",
              "    <tr>\n",
              "      <th>0</th>\n",
              "      <td>1</td>\n",
              "      <td>15634602</td>\n",
              "      <td>Hargrave</td>\n",
              "      <td>619</td>\n",
              "      <td>France</td>\n",
              "      <td>Female</td>\n",
              "      <td>42</td>\n",
              "      <td>2</td>\n",
              "      <td>0.00</td>\n",
              "      <td>1</td>\n",
              "      <td>1</td>\n",
              "      <td>1</td>\n",
              "      <td>101348.88</td>\n",
              "      <td>1</td>\n",
              "    </tr>\n",
              "    <tr>\n",
              "      <th>1</th>\n",
              "      <td>2</td>\n",
              "      <td>15647311</td>\n",
              "      <td>Hill</td>\n",
              "      <td>608</td>\n",
              "      <td>Spain</td>\n",
              "      <td>Female</td>\n",
              "      <td>41</td>\n",
              "      <td>1</td>\n",
              "      <td>83807.86</td>\n",
              "      <td>1</td>\n",
              "      <td>0</td>\n",
              "      <td>1</td>\n",
              "      <td>112542.58</td>\n",
              "      <td>0</td>\n",
              "    </tr>\n",
              "    <tr>\n",
              "      <th>2</th>\n",
              "      <td>3</td>\n",
              "      <td>15619304</td>\n",
              "      <td>Onio</td>\n",
              "      <td>502</td>\n",
              "      <td>France</td>\n",
              "      <td>Female</td>\n",
              "      <td>42</td>\n",
              "      <td>8</td>\n",
              "      <td>159660.80</td>\n",
              "      <td>3</td>\n",
              "      <td>1</td>\n",
              "      <td>0</td>\n",
              "      <td>113931.57</td>\n",
              "      <td>1</td>\n",
              "    </tr>\n",
              "    <tr>\n",
              "      <th>3</th>\n",
              "      <td>4</td>\n",
              "      <td>15701354</td>\n",
              "      <td>Boni</td>\n",
              "      <td>699</td>\n",
              "      <td>France</td>\n",
              "      <td>Female</td>\n",
              "      <td>39</td>\n",
              "      <td>1</td>\n",
              "      <td>0.00</td>\n",
              "      <td>2</td>\n",
              "      <td>0</td>\n",
              "      <td>0</td>\n",
              "      <td>93826.63</td>\n",
              "      <td>0</td>\n",
              "    </tr>\n",
              "    <tr>\n",
              "      <th>4</th>\n",
              "      <td>5</td>\n",
              "      <td>15737888</td>\n",
              "      <td>Mitchell</td>\n",
              "      <td>850</td>\n",
              "      <td>Spain</td>\n",
              "      <td>Female</td>\n",
              "      <td>43</td>\n",
              "      <td>2</td>\n",
              "      <td>125510.82</td>\n",
              "      <td>1</td>\n",
              "      <td>1</td>\n",
              "      <td>1</td>\n",
              "      <td>79084.10</td>\n",
              "      <td>0</td>\n",
              "    </tr>\n",
              "  </tbody>\n",
              "</table>\n",
              "</div>\n",
              "      <button class=\"colab-df-convert\" onclick=\"convertToInteractive('df-366ce1c6-ec72-4a54-ab92-d3e3cd8a7082')\"\n",
              "              title=\"Convert this dataframe to an interactive table.\"\n",
              "              style=\"display:none;\">\n",
              "        \n",
              "  <svg xmlns=\"http://www.w3.org/2000/svg\" height=\"24px\"viewBox=\"0 0 24 24\"\n",
              "       width=\"24px\">\n",
              "    <path d=\"M0 0h24v24H0V0z\" fill=\"none\"/>\n",
              "    <path d=\"M18.56 5.44l.94 2.06.94-2.06 2.06-.94-2.06-.94-.94-2.06-.94 2.06-2.06.94zm-11 1L8.5 8.5l.94-2.06 2.06-.94-2.06-.94L8.5 2.5l-.94 2.06-2.06.94zm10 10l.94 2.06.94-2.06 2.06-.94-2.06-.94-.94-2.06-.94 2.06-2.06.94z\"/><path d=\"M17.41 7.96l-1.37-1.37c-.4-.4-.92-.59-1.43-.59-.52 0-1.04.2-1.43.59L10.3 9.45l-7.72 7.72c-.78.78-.78 2.05 0 2.83L4 21.41c.39.39.9.59 1.41.59.51 0 1.02-.2 1.41-.59l7.78-7.78 2.81-2.81c.8-.78.8-2.07 0-2.86zM5.41 20L4 18.59l7.72-7.72 1.47 1.35L5.41 20z\"/>\n",
              "  </svg>\n",
              "      </button>\n",
              "      \n",
              "  <style>\n",
              "    .colab-df-container {\n",
              "      display:flex;\n",
              "      flex-wrap:wrap;\n",
              "      gap: 12px;\n",
              "    }\n",
              "\n",
              "    .colab-df-convert {\n",
              "      background-color: #E8F0FE;\n",
              "      border: none;\n",
              "      border-radius: 50%;\n",
              "      cursor: pointer;\n",
              "      display: none;\n",
              "      fill: #1967D2;\n",
              "      height: 32px;\n",
              "      padding: 0 0 0 0;\n",
              "      width: 32px;\n",
              "    }\n",
              "\n",
              "    .colab-df-convert:hover {\n",
              "      background-color: #E2EBFA;\n",
              "      box-shadow: 0px 1px 2px rgba(60, 64, 67, 0.3), 0px 1px 3px 1px rgba(60, 64, 67, 0.15);\n",
              "      fill: #174EA6;\n",
              "    }\n",
              "\n",
              "    [theme=dark] .colab-df-convert {\n",
              "      background-color: #3B4455;\n",
              "      fill: #D2E3FC;\n",
              "    }\n",
              "\n",
              "    [theme=dark] .colab-df-convert:hover {\n",
              "      background-color: #434B5C;\n",
              "      box-shadow: 0px 1px 3px 1px rgba(0, 0, 0, 0.15);\n",
              "      filter: drop-shadow(0px 1px 2px rgba(0, 0, 0, 0.3));\n",
              "      fill: #FFFFFF;\n",
              "    }\n",
              "  </style>\n",
              "\n",
              "      <script>\n",
              "        const buttonEl =\n",
              "          document.querySelector('#df-366ce1c6-ec72-4a54-ab92-d3e3cd8a7082 button.colab-df-convert');\n",
              "        buttonEl.style.display =\n",
              "          google.colab.kernel.accessAllowed ? 'block' : 'none';\n",
              "\n",
              "        async function convertToInteractive(key) {\n",
              "          const element = document.querySelector('#df-366ce1c6-ec72-4a54-ab92-d3e3cd8a7082');\n",
              "          const dataTable =\n",
              "            await google.colab.kernel.invokeFunction('convertToInteractive',\n",
              "                                                     [key], {});\n",
              "          if (!dataTable) return;\n",
              "\n",
              "          const docLinkHtml = 'Like what you see? Visit the ' +\n",
              "            '<a target=\"_blank\" href=https://colab.research.google.com/notebooks/data_table.ipynb>data table notebook</a>'\n",
              "            + ' to learn more about interactive tables.';\n",
              "          element.innerHTML = '';\n",
              "          dataTable['output_type'] = 'display_data';\n",
              "          await google.colab.output.renderOutput(dataTable, element);\n",
              "          const docLink = document.createElement('div');\n",
              "          docLink.innerHTML = docLinkHtml;\n",
              "          element.appendChild(docLink);\n",
              "        }\n",
              "      </script>\n",
              "    </div>\n",
              "  </div>\n",
              "  "
            ]
          },
          "metadata": {},
          "execution_count": 4
        }
      ],
      "source": [
        "df = pd.read_csv('Abandono_clientes.csv')\n",
        "df.head()"
      ]
    },
    {
      "cell_type": "markdown",
      "id": "59471d39",
      "metadata": {
        "id": "59471d39"
      },
      "source": [
        "## Atividade 2: Qual é o sobrenome mais comum?"
      ]
    },
    {
      "cell_type": "code",
      "execution_count": null,
      "id": "d149d603",
      "metadata": {
        "ExecuteTime": {
          "end_time": "2023-06-08T01:34:08.887422Z",
          "start_time": "2023-06-08T01:34:08.731636Z"
        },
        "id": "d149d603",
        "colab": {
          "base_uri": "https://localhost:8080/",
          "height": 35
        },
        "outputId": "8ce21dc1-0a82-4c7a-dd05-996e5c2e45ff"
      },
      "outputs": [
        {
          "output_type": "execute_result",
          "data": {
            "text/plain": [
              "'Smith'"
            ],
            "application/vnd.google.colaboratory.intrinsic+json": {
              "type": "string"
            }
          },
          "metadata": {},
          "execution_count": 5
        }
      ],
      "source": [
        "max_count_surname = df['Surname'].value_counts().idxmax()\n",
        "max_count_surname"
      ]
    },
    {
      "cell_type": "markdown",
      "source": [
        "## Atividade 3: Supondo que temos uma função que consegue dizer quais clientes deixarão (`Exited=1`) o banco com base apenas no país (`Geography`) e no sexo (`Gender`) do cliente. Qual seria o domnínio e a imagem dessa função?\n",
        "\n",
        "Em problemas de classificação deseja-se obter uma função (modelo preditivo que poderia envolver aprendizado de máquina) que consiga indicar quais clientes deixariam o banco, com base nos dados do cliente."
      ],
      "metadata": {
        "id": "ERH1mBKV1mgc"
      },
      "id": "ERH1mBKV1mgc"
    },
    {
      "cell_type": "markdown",
      "source": [
        "Resposta:\n",
        "- domínio: o conjunto que representa os dados das classes \"Geography\" e \"Gender\".\n",
        "\n",
        "- imagem: representado pelo conjunto das possibilidades de valores possíveis para a classe \"Exited\" (0, 1) aplicados para cada cliente do banco, considerando seu valor para as classes \"Geography\" e \"Gender\".\n",
        "\n",
        " * Im = f(x) -> {0, 1}\n"
      ],
      "metadata": {
        "id": "n6gWqLtv2ZgZ"
      },
      "id": "n6gWqLtv2ZgZ"
    },
    {
      "cell_type": "markdown",
      "id": "b54e71a7",
      "metadata": {
        "id": "b54e71a7"
      },
      "source": [
        "## Atividade 4: Se escolhermos um cliente ao acaso, qual é a probabilidade de que ele seja da França?\n",
        "\n"
      ]
    },
    {
      "cell_type": "code",
      "execution_count": null,
      "id": "09758757",
      "metadata": {
        "ExecuteTime": {
          "end_time": "2023-06-08T01:34:10.543400Z",
          "start_time": "2023-06-08T01:34:10.527443Z"
        },
        "id": "09758757"
      },
      "outputs": [],
      "source": [
        "#total de clientes\n",
        "total_costumers = df['Geography'].count()\n",
        "#total de clientes franceses\n",
        "total_french_costumers = df['Geography'][df['Geography'] == 'France'].count()\n",
        "#probabilidade de um cliente ser francês\n",
        "probability_french_costumer = total_french_costumers / total_costumers"
      ]
    },
    {
      "cell_type": "code",
      "source": [
        "print(f'A probabilidade de escolher um cliente ao acaso e este ser Francês é de'\n",
        "      f' {total_french_costumers}/{total_costumers}: {probability_french_costumer*100:.2f}%')"
      ],
      "metadata": {
        "id": "teo6dLtPs4Th",
        "colab": {
          "base_uri": "https://localhost:8080/"
        },
        "outputId": "eaf76e91-08e0-476b-a3bd-99415c4e382d"
      },
      "id": "teo6dLtPs4Th",
      "execution_count": null,
      "outputs": [
        {
          "output_type": "stream",
          "name": "stdout",
          "text": [
            "A probabilidade de escolher um cliente ao acaso e este ser Francês é de 5014/10000: 50.14%\n"
          ]
        }
      ]
    },
    {
      "cell_type": "markdown",
      "source": [
        "## Atividade 5: Escolhe-se um cliente ao acaso. Qual é a probabilidade de ele ser da França, sabendo que escolheu-se uma mulher?"
      ],
      "metadata": {
        "id": "_11cn86ctMjz"
      },
      "id": "_11cn86ctMjz"
    },
    {
      "cell_type": "code",
      "execution_count": null,
      "id": "26e31245",
      "metadata": {
        "ExecuteTime": {
          "end_time": "2023-06-08T01:34:11.351242Z",
          "start_time": "2023-06-08T01:34:11.329303Z"
        },
        "id": "26e31245"
      },
      "outputs": [],
      "source": [
        "#total de clientes mulheres\n",
        "total_women_costumers = df['Gender'][df['Gender'] == 'Female'].count()\n",
        "#total de clientes mulheres que são francesas\n",
        "total_french_women_costumers = df['Gender'][(df['Gender'] == 'Female') & (df['Geography'] == 'France')].count()\n",
        "#probabilidade de ser francesa dentre as mulheres\n",
        "probability_french_women_costumers = total_french_women_costumers / total_women_costumers\n"
      ]
    },
    {
      "cell_type": "code",
      "source": [
        "print(f'A probabilidade de escolher um cliente ao acaso e este ser mulher e ser francesa é de '\n",
        "      f'{total_french_women_costumers} / {total_women_costumers}: {probability_french_women_costumers*100:.2f}%.')"
      ],
      "metadata": {
        "id": "CZuVseT3ugBM",
        "colab": {
          "base_uri": "https://localhost:8080/"
        },
        "outputId": "ce83a728-febe-41f9-e30d-ceebc08e6dde"
      },
      "id": "CZuVseT3ugBM",
      "execution_count": null,
      "outputs": [
        {
          "output_type": "stream",
          "name": "stdout",
          "text": [
            "A probabilidade de escolher um cliente ao acaso e este ser mulher e ser francesa é de 2261 / 4543: 49.77%.\n"
          ]
        }
      ]
    },
    {
      "cell_type": "markdown",
      "source": [
        "## Atividade 6: Qual é a probabilidade de escolhermos um cliente ao acaso e ser um homem, da França com menos de 25 anos?"
      ],
      "metadata": {
        "id": "mFxH06qWyUsf"
      },
      "id": "mFxH06qWyUsf"
    },
    {
      "cell_type": "code",
      "source": [
        "#total de clientes\n",
        "total_costumers\n",
        "#total de clientes homens que são franceses com idade inferior a 25 anos\n",
        "total_french_men_costumer_under_25 = df['Gender'][(df['Gender'] == 'Male') & (df['Geography'] == 'France') & (df['Age'] < 25)].count()\n",
        "#probabilidade de ser um cliente homem, francês e com idade inferior a 25 anos\n",
        "probability_french_men_costumer_under_25 = total_french_men_costumer_under_25 / total_costumers"
      ],
      "metadata": {
        "id": "OvHUY3iVyVU8"
      },
      "id": "OvHUY3iVyVU8",
      "execution_count": null,
      "outputs": []
    },
    {
      "cell_type": "code",
      "source": [
        "print(f'A probabilidade de escolher um cliente ao acaso e este ser homem, francês e com idade inferior a 25 anos é de '\n",
        "      f'{total_french_men_costumer_under_25} / {total_costumers}: {probability_french_men_costumer_under_25*100:.2f}%.')"
      ],
      "metadata": {
        "id": "bi5LDIt5yz6O",
        "colab": {
          "base_uri": "https://localhost:8080/"
        },
        "outputId": "b470cb1b-5dc9-41e3-9c7d-15565ec6c9c2"
      },
      "id": "bi5LDIt5yz6O",
      "execution_count": null,
      "outputs": [
        {
          "output_type": "stream",
          "name": "stdout",
          "text": [
            "A probabilidade de escolher um cliente ao acaso e este ser homem, francês e com idade inferior a 25 anos é de 130 / 10000: 1.30%.\n"
          ]
        }
      ]
    },
    {
      "cell_type": "markdown",
      "source": [
        "## Atividade 7: Obtenha as estatísticas descritivas da variável `CreditScore`.\n",
        "Isto é, obtenha a média, o desvio padrão e os quartis."
      ],
      "metadata": {
        "id": "EcpOXaJXvFcr"
      },
      "id": "EcpOXaJXvFcr"
    },
    {
      "cell_type": "code",
      "execution_count": null,
      "id": "4ae56a10",
      "metadata": {
        "ExecuteTime": {
          "end_time": "2023-06-08T01:34:17.899536Z",
          "start_time": "2023-06-08T01:34:17.582384Z"
        },
        "id": "4ae56a10",
        "colab": {
          "base_uri": "https://localhost:8080/"
        },
        "outputId": "903af5ca-0515-42e4-f754-cc5f55d5bb36"
      },
      "outputs": [
        {
          "output_type": "execute_result",
          "data": {
            "text/plain": [
              "count    10000.000000\n",
              "mean       650.528800\n",
              "std         96.653299\n",
              "min        350.000000\n",
              "25%        584.000000\n",
              "50%        652.000000\n",
              "75%        718.000000\n",
              "max        850.000000\n",
              "Name: CreditScore, dtype: float64"
            ]
          },
          "metadata": {},
          "execution_count": 12
        }
      ],
      "source": [
        "df['CreditScore'].describe()"
      ]
    },
    {
      "cell_type": "markdown",
      "source": [
        "## Atividade 8: Faça um boxplot da variável `CreditScore`."
      ],
      "metadata": {
        "id": "EZXzVK7Gvk3r"
      },
      "id": "EZXzVK7Gvk3r"
    },
    {
      "cell_type": "code",
      "execution_count": null,
      "id": "3a0ed014",
      "metadata": {
        "ExecuteTime": {
          "end_time": "2023-06-08T01:34:22.327137Z",
          "start_time": "2023-06-08T01:34:22.110718Z"
        },
        "id": "3a0ed014",
        "colab": {
          "base_uri": "https://localhost:8080/",
          "height": 445
        },
        "outputId": "04e0704e-87ac-46e3-dacc-cddd477952d8"
      },
      "outputs": [
        {
          "output_type": "display_data",
          "data": {
            "text/plain": [
              "<Figure size 400x500 with 1 Axes>"
            ],
            "image/png": "[encoded data removed]"
          },
          "metadata": {}
        }
      ],
      "source": [
        "plt.figure(figsize=(4,5))\n",
        "sns.boxplot(data=df['CreditScore'])\n",
        "plt.show()"
      ]
    },
    {
      "cell_type": "markdown",
      "source": [
        "## Atividade 9: Calcule as estatísticas descritivas para a variável `CreditScore` para cada classe da variável `Gender` e comente se o comportamento da variável `CreditScore` pode ser considerado diferente para os sexos masculino e feminino."
      ],
      "metadata": {
        "id": "1HEV3FNjw8M2"
      },
      "id": "1HEV3FNjw8M2"
    },
    {
      "cell_type": "code",
      "source": [
        "#CreditScore para homens\n",
        "df['CreditScore'][df['Gender'] == 'Male'].describe()"
      ],
      "metadata": {
        "id": "BUPWW-_fxMKc",
        "colab": {
          "base_uri": "https://localhost:8080/"
        },
        "outputId": "2fde7a24-71d0-4b33-abc6-c3bbba49ef2c"
      },
      "id": "BUPWW-_fxMKc",
      "execution_count": null,
      "outputs": [
        {
          "output_type": "execute_result",
          "data": {
            "text/plain": [
              "count    5457.000000\n",
              "mean      650.276892\n",
              "std        96.549706\n",
              "min       350.000000\n",
              "25%       583.000000\n",
              "50%       651.000000\n",
              "75%       718.000000\n",
              "max       850.000000\n",
              "Name: CreditScore, dtype: float64"
            ]
          },
          "metadata": {},
          "execution_count": 109
        }
      ]
    },
    {
      "cell_type": "code",
      "source": [
        "#CreditScore para mulheres\n",
        "df['CreditScore'][df['Gender'] == 'Female'].describe()"
      ],
      "metadata": {
        "id": "siT0rHaMxWhH",
        "colab": {
          "base_uri": "https://localhost:8080/"
        },
        "outputId": "8cfd207e-fe2d-41a4-fa92-38c9b46dd27f"
      },
      "id": "siT0rHaMxWhH",
      "execution_count": null,
      "outputs": [
        {
          "output_type": "execute_result",
          "data": {
            "text/plain": [
              "count    4543.000000\n",
              "mean      650.831389\n",
              "std        96.787350\n",
              "min       350.000000\n",
              "25%       584.000000\n",
              "50%       652.000000\n",
              "75%       717.000000\n",
              "max       850.000000\n",
              "Name: CreditScore, dtype: float64"
            ]
          },
          "metadata": {},
          "execution_count": 110
        }
      ]
    },
    {
      "cell_type": "markdown",
      "source": [
        "Com base nas informações descritivas da variável \"CreditScore\" para homens e mulheres, podemos dizer de que os valores são muito parecidos dentro os diferentes gêneros para este conjunto de dados. É possível dizer de que a classe \"CreditScore\", neste caso, não sofre dependência significante da classe \"Gender\"."
      ],
      "metadata": {
        "id": "FrywaqE-xq4Z"
      },
      "id": "FrywaqE-xq4Z"
    },
    {
      "cell_type": "markdown",
      "source": [
        "## Atividade 10: Faça um boxplot da variável `CreditScore` para cada classe da variável `Gender` e comente se o comportamento da variável `CreditScore` pode ser considerado diferente para os sexos masculino e feminino."
      ],
      "metadata": {
        "id": "7OqgOlVWwIrD"
      },
      "id": "7OqgOlVWwIrD"
    },
    {
      "cell_type": "code",
      "source": [
        "boxplot = sns.boxplot(data=df, x='CreditScore', y='Gender');"
      ],
      "metadata": {
        "id": "CYX43fGywbB1",
        "colab": {
          "base_uri": "https://localhost:8080/",
          "height": 449
        },
        "outputId": "f0bb4c3f-a981-4c8b-e5ed-10969766605f"
      },
      "id": "CYX43fGywbB1",
      "execution_count": null,
      "outputs": [
        {
          "output_type": "display_data",
          "data": {
            "text/plain": [
              "<Figure size 640x480 with 1 Axes>"
            ],
            "image/png": "[encoded data removed]"
          },
          "metadata": {}
        }
      ]
    },
    {
      "cell_type": "markdown",
      "source": [
        "Com base nas informações descritivas da variável \"CreditScore\" para homens e mulheres, podemos dizer de que os valores são muito parecidos dentro os diferentes gêneros para este conjunto de dados. É possível dizer de que a classe \"CreditScore\", neste caso, não sofre dependência significante da classe \"Gender\"."
      ],
      "metadata": {
        "id": "M3o1IYFCyoGd"
      },
      "id": "M3o1IYFCyoGd"
    },
    {
      "cell_type": "markdown",
      "source": [
        "## Atividade 11: Qual é o percentual de homens (em relação ao total de homens) e de mulheres (em relação ao total de mulheres) que deixaram o banco? Existe algum grupo que tem mais propensão a deixar a instituição? Se houver, como poderíamos tentar resolver o problema?"
      ],
      "metadata": {
        "id": "1pFlOj30zTFm"
      },
      "id": "1pFlOj30zTFm"
    },
    {
      "cell_type": "code",
      "source": [
        "#total de clientes homens\n",
        "total_men_costumers = df['Gender'][df['Gender'] == 'Male'].count()\n",
        "#total de clientes homens que deixaram o banco\n",
        "total_men_costumers_left = df['Gender'][(df['Gender'] == 'Male') & (df['Exited'] == 1)].count()\n",
        "percent_total_men_costumers_left = total_men_costumers_left / total_men_costumers\n",
        "print(f'Total homens: {total_men_costumers}\\n'\n",
        "      f'Número de homens que deixaram o banco: {total_men_costumers_left}\\n'\n",
        "      f'Percentual de homens que deixaram o banco: {percent_total_men_costumers_left*100:.2f}%.')"
      ],
      "metadata": {
        "id": "kgni3Diezj_N",
        "colab": {
          "base_uri": "https://localhost:8080/"
        },
        "outputId": "39af04e8-a58f-445b-bd1c-d16ebb5cece3"
      },
      "id": "kgni3Diezj_N",
      "execution_count": null,
      "outputs": [
        {
          "output_type": "stream",
          "name": "stdout",
          "text": [
            "Total homens: 5457\n",
            "Número de homens que deixaram o banco: 898\n",
            "Percentual de homens que deixaram o banco: 16.46%.\n"
          ]
        }
      ]
    },
    {
      "cell_type": "code",
      "source": [
        "#total de clientes mulheres\n",
        "total_women_costumers = df['Gender'][df['Gender'] == 'Female'].count()\n",
        "#total de clientes mulheres que deixaram o banco\n",
        "total_women_costumers_left = df['Gender'][(df['Gender'] == 'Female') & (df['Exited'] == 1)].count()\n",
        "percent_total_women_costumers_left = total_women_costumers_left / total_women_costumers\n",
        "print(f'Total mulheres: {total_women_costumers}\\n'\n",
        "      f'Número de mulheres que deixaram o banco: {total_women_costumers_left}\\n'\n",
        "      f'Percentual de mulheres que deixaram o banco: {percent_total_women_costumers_left*100:.2f}%.')"
      ],
      "metadata": {
        "id": "rhSnYhE0z4wb",
        "colab": {
          "base_uri": "https://localhost:8080/"
        },
        "outputId": "04e6e17c-bafc-4b9a-d294-f99b070c517f"
      },
      "id": "rhSnYhE0z4wb",
      "execution_count": null,
      "outputs": [
        {
          "output_type": "stream",
          "name": "stdout",
          "text": [
            "Total mulheres: 4543\n",
            "Número de mulheres que deixaram o banco: 1139\n",
            "Percentual de mulheres que deixaram o banco: 25.07%.\n"
          ]
        }
      ]
    },
    {
      "cell_type": "code",
      "source": [
        "#1139 mulheres deixaram o banco\n",
        "women_exited = df[(df['Gender'] == 'Female') & (df['Exited'] == 1)]\n",
        "#762 destas mulheres possuiam apenas 1 produto do banco\n",
        "women_exited['NumOfProducts'].value_counts()\n",
        "#das mulheres que sairam que tinham um produto, 536 tinham cartão de crédito\n",
        "women_exited['HasCrCard'][women_exited['NumOfProducts'] == 1].value_counts()\n",
        "#das mulheres que sairam que tinham um ou dois  produto, 623 não eram membros ativos\n",
        "women_exited['Balance'][(women_exited.NumOfProducts.isin([1])) & (women_exited.HasCrCard == 1)].value_counts()\n",
        "#25% das mulheres que saíram do banco não tinham dinheiro no banco\n",
        "women_exited['Balance'].describe()\n"
      ],
      "metadata": {
        "id": "tzpEqK0m0QKT",
        "colab": {
          "base_uri": "https://localhost:8080/"
        },
        "outputId": "b2bda207-ec72-48fb-f7e0-866843c6e75b"
      },
      "id": "tzpEqK0m0QKT",
      "execution_count": null,
      "outputs": [
        {
          "output_type": "execute_result",
          "data": {
            "text/plain": [
              "count      1139.000000\n",
              "mean      89036.639359\n",
              "std       58664.516273\n",
              "min           0.000000\n",
              "25%           0.000000\n",
              "50%      108076.330000\n",
              "75%      130842.870000\n",
              "max      238387.560000\n",
              "Name: Balance, dtype: float64"
            ]
          },
          "metadata": {},
          "execution_count": 219
        }
      ]
    },
    {
      "cell_type": "markdown",
      "source": [
        "Com base nesta extração de informações, a tendência de clientes do gênero mulher saírem  do banco é maior do que entre os clientes do gênero homem.\n",
        "\n",
        "Dentre as clientes do gênero mulher que deixaram de ser clientes do banco (1139), cerca de 25% do total para este gênero (4543); 67% (762) destas clientes possuíam apenas um produto do banco sendo este produto o cartão de crédito (536 mulheres, 70%).\n",
        "\n",
        "Diante disto, talvez uma abordagem para evitar que este tipo de cliente (mulheres que utilizam apenas o cartão de crédito) seria promover campanhas para demonstração de outros produtos do banco de forma a atrair o interesse deste grupo. Além disso, poderia também ser analisadas formas para reduzir encargos sobre a utilização de cartão de crédito tais como anuidade e taxas pois estas saídas podem estar ligadas a insatisfação com este produto."
      ],
      "metadata": {
        "id": "D3lMg8iAysCj"
      },
      "id": "D3lMg8iAysCj"
    },
    {
      "cell_type": "markdown",
      "source": [
        "## Atividade 12: Obtenha os valores mínimo e máximo da variável `EstimatedSalary` e encontre uma função do primeiro grau que passe pelos pontos (0,mínimo) e (9999, máximo). Após isso faça o gráfico dessa função e compare com o gráfico variável `EstimatedSalary`."
      ],
      "metadata": {
        "id": "7WPTNT714NLk"
      },
      "id": "7WPTNT714NLk"
    },
    {
      "cell_type": "code",
      "source": [
        "minimo = df['EstimatedSalary'].min()\n",
        "maximo = df['EstimatedSalary'].max()\n",
        "\n",
        "x = np.linspace(9999, maximo, 10000)\n",
        "x = np.linspace(0, minimo, 10)\n",
        "\n",
        "def f(x):\n",
        "   return (20 * x) + 11.58\n",
        "\n",
        "y = f(x)\n",
        "\n",
        "plt.plot(x,y, color='red');"
      ],
      "metadata": {
        "colab": {
          "base_uri": "https://localhost:8080/",
          "height": 430
        },
        "id": "TwmfSQCUP1kP",
        "outputId": "181d810c-67ee-4023-ea5f-b69625167a0f"
      },
      "id": "TwmfSQCUP1kP",
      "execution_count": null,
      "outputs": [
        {
          "output_type": "display_data",
          "data": {
            "text/plain": [
              "<Figure size 640x480 with 1 Axes>"
            ],
            "image/png": "[encoded data removed]"
          },
          "metadata": {}
        }
      ]
    },
    {
      "cell_type": "markdown",
      "source": [
        "No bloco de código abaixo, apenas altere a variável `y` e execute o código para ver se a função que criou se ajusta bem aos dados."
      ],
      "metadata": {
        "id": "er4Ra3thD4e6"
      },
      "id": "er4Ra3thD4e6"
    },
    {
      "cell_type": "code",
      "source": [
        "x = np.linspace(0, 9999, 10000)\n",
        "y = (20 * x) + 11.58\n",
        "plt.scatter(x=x, y=df['EstimatedSalary'].sort_values())\n",
        "plt.plot(x,y, color='red');"
      ],
      "metadata": {
        "colab": {
          "base_uri": "https://localhost:8080/",
          "height": 430
        },
        "id": "0sYPRc1842zn",
        "outputId": "74ebed9d-bd7e-4cd4-a633-968acdb0d001"
      },
      "id": "0sYPRc1842zn",
      "execution_count": null,
      "outputs": [
        {
          "output_type": "display_data",
          "data": {
            "text/plain": [
              "<Figure size 640x480 with 1 Axes>"
            ],
            "image/png": "[encoded data removed]"
          },
          "metadata": {}
        }
      ]
    },
    {
      "cell_type": "code",
      "source": [],
      "metadata": {
        "id": "Wxiu3Ahi25UA"
      },
      "id": "Wxiu3Ahi25UA",
      "execution_count": null,
      "outputs": []
    }
  ],
  "metadata": {
    "kernelspec": {
      "display_name": "Python 3",
      "name": "python3"
    },
    "language_info": {
      "codemirror_mode": {
        "name": "ipython",
        "version": 3
      },
      "file_extension": ".py",
      "mimetype": "text/x-python",
      "name": "python",
      "nbconvert_exporter": "python",
      "pygments_lexer": "ipython3",
      "version": "3.10.9"
    },
    "toc": {
      "base_numbering": 1,
      "nav_menu": {},
      "number_sections": true,
      "sideBar": true,
      "skip_h1_title": false,
      "title_cell": "Table of Contents",
      "title_sidebar": "Contents",
      "toc_cell": false,
      "toc_position": {},
      "toc_section_display": true,
      "toc_window_display": false
    },
    "varInspector": {
      "cols": {
        "lenName": 16,
        "lenType": 16,
        "lenVar": 40
      },
      "kernels_config": {
        "python": {
          "delete_cmd_postfix": "",
          "delete_cmd_prefix": "del ",
          "library": "var_list.py",
          "varRefreshCmd": "print(var_dic_list())"
        },
        "r": {
          "delete_cmd_postfix": ") ",
          "delete_cmd_prefix": "rm(",
          "library": "var_list.r",
          "varRefreshCmd": "cat(var_dic_list()) "
        }
      },
      "types_to_exclude": [
        "module",
        "function",
        "builtin_function_or_method",
        "instance",
        "_Feature"
      ],
      "window_display": false
    },
    "colab": {
      "provenance": [],
      "gpuType": "T4",
      "include_colab_link": true
    }
  },
  "nbformat": 4,
  "nbformat_minor": 5
}
